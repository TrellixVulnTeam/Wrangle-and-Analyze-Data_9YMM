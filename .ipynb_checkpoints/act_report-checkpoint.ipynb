{
 "cells": [
  {
   "cell_type": "markdown",
   "metadata": {},
   "source": [
    "## Report:"
   ]
  },
  {
   "cell_type": "markdown",
   "metadata": {},
   "source": [
    "From Udacity's Project on Wrangling and Analyzing Data, students are asked to gather data from multiple sources, clean the data, and to infer insights from the WeRateDogs Twitter account.\n",
    "\n",
    "The following visualizations are generated from these efforts.  To read the source code, please visit the [Github repository here.](https://github.com/ofili/wrangle-and-analyze-data)"
   ]
  },
  {
   "cell_type": "markdown",
   "metadata": {},
   "source": [
    "![](data/retweets_likes_over_time.png)"
   ]
  },
  {
   "cell_type": "markdown",
   "metadata": {},
   "source": [
    "![](data/retweet_likes_over_time.png)"
   ]
  },
  {
   "cell_type": "markdown",
   "metadata": {},
   "source": [
    "Between the years in review, 2015 to 2017, the number of likes increased significantly. Resembling a geometric progression. However, the number of retweets appears to be increasing at a linear rate.  \n",
    "\n",
    "According to [SocialBlade](https://socialblade.com/twitter/user/dog_rates/monthly), the number of followers @dog_rates has steadily grown from 372k in September 2017 to 3.65m by September 2019."
   ]
  },
  {
   "cell_type": "markdown",
   "metadata": {},
   "source": [
    "![](data/most_dog_stage.png)"
   ]
  },
  {
   "cell_type": "markdown",
   "metadata": {},
   "source": [
    "According to Rover's Blog on [How Cuteness Makes Us Lover Our Dogs](https://www.rover.com/blog/science-cute-dogs/), studies have hypothesized that \"dogs evolved to be cuter as they became more domesticated in order to make people want to take care of them\" and that puppies exhibit more features of what makes a dog cute."
   ]
  },
  {
   "cell_type": "markdown",
   "metadata": {},
   "source": [
    "From the available data, dogs categorized as doggo or puppo received the most likes."
   ]
  },
  {
   "cell_type": "markdown",
   "metadata": {},
   "source": [
    "## Future Improvements\n",
    "\n",
    "The cleaned dataset is capable of answering questions as:\n",
    "- What breed of dog is most popular?\n",
    "- What breed of dog receives the most likes?\n",
    "- Which tweet resulted in the most account followers?\n",
    "- Do dogs with higher ratings correspond with more likes or retweets?"
   ]
  }
 ],
 "metadata": {
  "kernelspec": {
   "display_name": "Python 3 (ipykernel)",
   "language": "python",
   "name": "python3"
  },
  "language_info": {
   "codemirror_mode": {
    "name": "ipython",
    "version": 3
   },
   "file_extension": ".py",
   "mimetype": "text/x-python",
   "name": "python",
   "nbconvert_exporter": "python",
   "pygments_lexer": "ipython3",
   "version": "3.9.7"
  }
 },
 "nbformat": 4,
 "nbformat_minor": 2
}
