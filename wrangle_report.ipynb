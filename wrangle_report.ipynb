{
 "cells": [
  {
   "cell_type": "markdown",
   "metadata": {},
   "source": [
    "# Wrangle Report\n",
    "\n",
    "This document briefly describes the wrangling efforts for the WeRateDogs Twitter dataset in the `wrangle_act.ipynb` notebook.\n",
    "\n",
    "## Gathering Data\n",
    "\n",
    "The dataset was gathered through the following methods:\n",
    "1. File on hand - `twitter-archive-enhanced.csv`\n",
    "2. File hosted on Udacity's servers - `image-predictions.tsv`\n",
    "3. File hosted on Udacity's servers - `tweet_json.txt`"
   ]
  },
  {
   "cell_type": "markdown",
   "metadata": {},
   "source": [
    "### `twitter-archive-enhanced.csv`\n",
    "\n",
    "Using the pandas library, `.csv` files were read directly into a DataFrame.\n",
    "\n",
    "### `image-predictions.tsv`\n",
    "\n",
    "Using the requests library, files hosted on the internet were programmatically downloaded.  Once downloaded, the pandas library was used to read in the `.tsv` into a DataFrame.\n",
    "\n",
    "### `tweet-json.txt`\n",
    "\n",
    "Using the requests library, files hosted on the internet were programmatically downloaded.  The text file is read line by line to append the `tweet_id`, `favorite_count`, and `retweet_count` into a DataFrame"
   ]
  },
  {
   "cell_type": "markdown",
   "metadata": {},
   "source": [
    "## Assessing Data\n",
    "Once the data has all been gathered into individual DataFrames, the data is assessed both visually and programmatically to look for any quality and tidiness issues.\n",
    "\n",
    "Programmatic Methods:\n",
    "- .head()\n",
    "- .describe()\n",
    "- .info()\n",
    "- .duplicated()\n",
    "- .value_counts()\n",
    "- .query()\n",
    "- .sum()\n",
    "\n",
    "The issues were categorized by quality and tidiness."
   ]
  },
  {
   "cell_type": "markdown",
   "metadata": {},
   "source": [
    "### Quality Issues\n",
    "#### Completeness\n",
    "1. `archive`: Missing and incorrect dog names\n",
    "\n",
    "#### Validity\n",
    "4. `archive`: Retweets may capture the same dog twice with a different tweet_id\n",
    "5. `archive`: Replies do not have images\n",
    "6. `predictions`: 324 predictions where the top 3 predictions are not dog breeds.  Sampling data reveals turtles, fish, sloth, etc.\n",
    "\n",
    "#### Accuracy\n",
    "7. `archive`: Rating numerator and denominator have many outliers\n",
    "\n",
    "#### Consistency\n",
    "9. `archive`: Timestamp column is a string\n",
    "10. `archive`: Source displays url\n",
    "\n",
    "### Tidiness Issues\n",
    "\n",
    "#### Each variable forms a column\n",
    "11. `predictions`: Four columns for stages of dog (doggo, pupper, puppo, floofer) should be one category column\n",
    "\n",
    "#### Each observation forms a row\n",
    "- N/A\n",
    "\n",
    "#### Each type of observational unit forms a table\n",
    "12. `predictions`: Observational unit is for image prediction, `jpg_url` should be part of `archive` table.\n",
    "13. `tweets`: Retweet and favorite should be appended to `archive` table."
   ]
  },
  {
   "cell_type": "markdown",
   "metadata": {},
   "source": [
    "#### Missing and incorrect dog names.\n",
    "\n",
    "Most of the tweets introduce the dog's name in the beginning of each tweet with \"This is ...\".\n",
    "\n",
    "The previous gathering efforts took note of this pattern and was able to capture most of the dog's name by extracting the word after \"This is ...\".\n",
    "\n",
    "However, if the tweet did not begin with \"This is ...\" the name was defaulted to \"None\".  This explains the 745 records where the dog's name is \"None\".\n",
    "\n",
    "This method may also explains why the second most dog name is \"a\".  For example, if the tweet began with \"This is a good boy...\" then the method assigned the letter \"a\" to the dog's name.\n",
    "\n",
    "On further inspection, if the dog's name was lowercase, it was likely labeled incorrectly.\n",
    "\n",
    "The cleaning effort tried to correct the dog's name by filtering by incorrectly labeled tweets, and finding their name in the body of the text.\n",
    "\n",
    "The notebook only includes correction for dog names labeled as \"a\" because of time constraint. However, with more time and cleaning effort more dog names could be found."
   ]
  },
  {
   "cell_type": "markdown",
   "metadata": {},
   "source": [
    "#### Predictions are not dog breeds.\n",
    "\n",
    "For the many of predictions where dog predictions are False, the images did not contain a dog.\n",
    "\n",
    "However, there are some instances where a dog is in a busy photo and a dog breed is not predicted.\n",
    "\n",
    "For example, a photo of a dog taken from behind and his face is in the reflection of a computer monitor.  The top three predictions were for items on the desk.\n",
    "\n",
    "Retraining the model may provide more accurate breed predictions."
   ]
  }
 ],
 "metadata": {
  "kernelspec": {
   "display_name": "Python 3",
   "language": "python",
   "name": "python3"
  },
  "language_info": {
   "codemirror_mode": {
    "name": "ipython",
    "version": 3
   },
   "file_extension": ".py",
   "mimetype": "text/x-python",
   "name": "python",
   "nbconvert_exporter": "python",
   "pygments_lexer": "ipython3",
   "version": "3.6.3"
  }
 },
 "nbformat": 4,
 "nbformat_minor": 2
}
